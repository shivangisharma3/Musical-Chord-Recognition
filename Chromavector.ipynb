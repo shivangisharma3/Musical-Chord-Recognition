{
 "cells": [
  {
   "cell_type": "code",
   "execution_count": 4,
   "metadata": {},
   "outputs": [
    {
     "name": "stdout",
     "output_type": "stream",
     "text": [
      "128\n",
      "256\n",
      "512\n",
      "1024\n",
      "2048\n",
      "4096\n",
      "8192\n",
      "all done\n"
     ]
    }
   ],
   "source": [
    "%matplotlib inline\n",
    "import numpy, scipy, matplotlib.pyplot as plt, IPython.display as ipd\n",
    "import librosa, librosa.display\n",
    "#import stanford_mir; stanford_mir.init()\n",
    "list1=['c','c#','d','d#','e','f','f#','g','g#','a','a#','b','cm','c#m','dm','d#m','em','fm','f#m','gm','g#m','am','a#m','bm']\n",
    "starthop=64\n",
    "endhop=4096\n",
    "while starthop<=endhop:\n",
    "    for i in range(24):\n",
    "        x, sr = librosa.load('audio/guitar_clean/'+list1[i]+'.wav')\n",
    "        fmin = librosa.midi_to_hz(36)\n",
    "        hop_length = starthop\n",
    "        chromagram = librosa.feature.chroma_stft(x, sr=sr, hop_length=hop_length)\n",
    "        file=open(\"guitar_clean_\"+str(starthop)+\"/\"+list1[i]+'.json','w')\n",
    "        list2=[]\n",
    "        for j in range(len(chromagram[0])):\n",
    "            a=[]\n",
    "            for k in range(12):\n",
    "                a.append(chromagram[k][j])\n",
    "            list2.append(a)\n",
    "        file.write(\"%s\\n\" %list2)\n",
    "        file.close()\n",
    "    starthop=starthop*2\n",
    "    print(starthop)\n",
    "print(\"all done\")"
   ]
  },
  {
   "cell_type": "code",
   "execution_count": 6,
   "metadata": {},
   "outputs": [
    {
     "name": "stdout",
     "output_type": "stream",
     "text": [
      "128\n",
      "256\n",
      "512\n",
      "1024\n",
      "2048\n",
      "4096\n",
      "8192\n",
      "all done\n"
     ]
    }
   ],
   "source": [
    "starthop=64\n",
    "endhop=4096\n",
    "while starthop<=endhop:\n",
    "    for i in range(24):\n",
    "        x, sr = librosa.load('audio/guitar/'+list1[i]+'.wav')\n",
    "        fmin = librosa.midi_to_hz(36)\n",
    "        hop_length = starthop\n",
    "        chromagram = librosa.feature.chroma_stft(x, sr=sr, hop_length=hop_length)\n",
    "        file=open(\"guitar_\"+str(starthop)+\"/\"+list1[i]+'.json','w')\n",
    "        list2=[]\n",
    "        for j in range(len(chromagram[0])):\n",
    "            a=[]\n",
    "            for k in range(12):\n",
    "                a.append(chromagram[k][j])\n",
    "            list2.append(a)\n",
    "        file.write(\"%s\\n\" %list2)\n",
    "        file.close()\n",
    "    starthop=starthop*2\n",
    "    print(starthop)\n",
    "print(\"all done\")"
   ]
  },
  {
   "cell_type": "code",
   "execution_count": null,
   "metadata": {},
   "outputs": [],
   "source": []
  }
 ],
 "metadata": {
  "kernelspec": {
   "display_name": "Python 3",
   "language": "python",
   "name": "python3"
  },
  "language_info": {
   "codemirror_mode": {
    "name": "ipython",
    "version": 3
   },
   "file_extension": ".py",
   "mimetype": "text/x-python",
   "name": "python",
   "nbconvert_exporter": "python",
   "pygments_lexer": "ipython3",
   "version": "3.6.5"
  }
 },
 "nbformat": 4,
 "nbformat_minor": 2
}
